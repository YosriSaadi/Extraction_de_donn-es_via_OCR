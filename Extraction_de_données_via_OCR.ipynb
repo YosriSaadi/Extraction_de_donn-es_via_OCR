{
  "nbformat": 4,
  "nbformat_minor": 0,
  "metadata": {
    "colab": {
      "provenance": [],
      "authorship_tag": "ABX9TyO7/Pj9Y4U6ggpP7OqWTle/",
      "include_colab_link": true
    },
    "kernelspec": {
      "name": "python3",
      "display_name": "Python 3"
    },
    "language_info": {
      "name": "python"
    }
  },
  "cells": [
    {
      "cell_type": "markdown",
      "metadata": {
        "id": "view-in-github",
        "colab_type": "text"
      },
      "source": [
        "<a href=\"https://colab.research.google.com/github/YosriSaadi/Extraction_de_donn-es_via_OCR/blob/main/Extraction_de_donn%C3%A9es_via_OCR.ipynb\" target=\"_parent\"><img src=\"https://colab.research.google.com/assets/colab-badge.svg\" alt=\"Open In Colab\"/></a>"
      ]
    },
    {
      "cell_type": "code",
      "execution_count": 1,
      "metadata": {
        "colab": {
          "base_uri": "https://localhost:8080/"
        },
        "id": "qoze1JwowSl7",
        "outputId": "693a8f84-8768-4ade-b40b-a3406e377f47"
      },
      "outputs": [
        {
          "output_type": "stream",
          "name": "stdout",
          "text": [
            "\u001b[2K     \u001b[90m━━━━━━━━━━━━━━━━━━━━━━━━━━━━━━━━━━━━━━━━\u001b[0m \u001b[32m2.9/2.9 MB\u001b[0m \u001b[31m10.3 MB/s\u001b[0m eta \u001b[36m0:00:00\u001b[0m\n",
            "\u001b[2K     \u001b[90m━━━━━━━━━━━━━━━━━━━━━━━━━━━━━━━━━━━━━━━━\u001b[0m \u001b[32m42.3/42.3 kB\u001b[0m \u001b[31m2.6 MB/s\u001b[0m eta \u001b[36m0:00:00\u001b[0m\n",
            "\u001b[2K     \u001b[90m━━━━━━━━━━━━━━━━━━━━━━━━━━━━━━━━━━━━━━━━\u001b[0m \u001b[32m90.2/90.2 kB\u001b[0m \u001b[31m6.1 MB/s\u001b[0m eta \u001b[36m0:00:00\u001b[0m\n",
            "\u001b[2K     \u001b[90m━━━━━━━━━━━━━━━━━━━━━━━━━━━━━━━━━━━━━━━━\u001b[0m \u001b[32m908.3/908.3 kB\u001b[0m \u001b[31m15.5 MB/s\u001b[0m eta \u001b[36m0:00:00\u001b[0m\n",
            "\u001b[2K     \u001b[90m━━━━━━━━━━━━━━━━━━━━━━━━━━━━━━━━━━━━━━━━\u001b[0m \u001b[32m307.2/307.2 kB\u001b[0m \u001b[31m17.8 MB/s\u001b[0m eta \u001b[36m0:00:00\u001b[0m\n",
            "\u001b[2K     \u001b[90m━━━━━━━━━━━━━━━━━━━━━━━━━━━━━━━━━━━━━━━━\u001b[0m \u001b[32m9.5/9.5 MB\u001b[0m \u001b[31m28.2 MB/s\u001b[0m eta \u001b[36m0:00:00\u001b[0m\n",
            "\u001b[2K     \u001b[90m━━━━━━━━━━━━━━━━━━━━━━━━━━━━━━━━━━━━━━━━\u001b[0m \u001b[32m40.0/40.0 kB\u001b[0m \u001b[31m2.3 MB/s\u001b[0m eta \u001b[36m0:00:00\u001b[0m\n",
            "\u001b[2K     \u001b[90m━━━━━━━━━━━━━━━━━━━━━━━━━━━━━━━━━━━━━━━━\u001b[0m \u001b[32m50.7/50.7 kB\u001b[0m \u001b[31m3.2 MB/s\u001b[0m eta \u001b[36m0:00:00\u001b[0m\n",
            "\u001b[2K     \u001b[90m━━━━━━━━━━━━━━━━━━━━━━━━━━━━━━━━━━━━━━━━\u001b[0m \u001b[32m28.3/28.3 MB\u001b[0m \u001b[31m12.6 MB/s\u001b[0m eta \u001b[36m0:00:00\u001b[0m\n",
            "\u001b[2K     \u001b[90m━━━━━━━━━━━━━━━━━━━━━━━━━━━━━━━━━━━━━━━━\u001b[0m \u001b[32m3.5/3.5 MB\u001b[0m \u001b[31m20.7 MB/s\u001b[0m eta \u001b[36m0:00:00\u001b[0m\n",
            "\u001b[2K     \u001b[90m━━━━━━━━━━━━━━━━━━━━━━━━━━━━━━━━━━━━━━━━\u001b[0m \u001b[32m159.9/159.9 kB\u001b[0m \u001b[31m9.8 MB/s\u001b[0m eta \u001b[36m0:00:00\u001b[0m\n",
            "\u001b[2K     \u001b[90m━━━━━━━━━━━━━━━━━━━━━━━━━━━━━━━━━━━━━━━━\u001b[0m \u001b[32m4.5/4.5 MB\u001b[0m \u001b[31m20.6 MB/s\u001b[0m eta \u001b[36m0:00:00\u001b[0m\n",
            "\u001b[2K     \u001b[90m━━━━━━━━━━━━━━━━━━━━━━━━━━━━━━━━━━━━━━━━\u001b[0m \u001b[32m15.8/15.8 MB\u001b[0m \u001b[31m19.9 MB/s\u001b[0m eta \u001b[36m0:00:00\u001b[0m\n",
            "\u001b[2K     \u001b[90m━━━━━━━━━━━━━━━━━━━━━━━━━━━━━━━━━━━━━━━━\u001b[0m \u001b[32m21.3/21.3 MB\u001b[0m \u001b[31m63.7 MB/s\u001b[0m eta \u001b[36m0:00:00\u001b[0m\n",
            "\u001b[2K     \u001b[90m━━━━━━━━━━━━━━━━━━━━━━━━━━━━━━━━━━━━━━━━\u001b[0m \u001b[32m3.6/3.6 MB\u001b[0m \u001b[31m81.2 MB/s\u001b[0m eta \u001b[36m0:00:00\u001b[0m\n",
            "\u001b[?25h"
          ]
        }
      ],
      "source": [
        "pip install easyocr keras-ocr img2table img2table[easyocr] -q"
      ]
    },
    {
      "cell_type": "code",
      "source": [
        "import easyocr\n",
        "import json\n",
        "\n",
        "def extract_text_from_image(image_path):\n",
        "    # Initialize the reader with the languages you expect in the image\n",
        "    reader = easyocr.Reader(['en', 'fr', 'it', 'es', 'la'])\n",
        "\n",
        "    # Perform OCR on the image\n",
        "    result = reader.readtext(image_path, detail=1)\n",
        "\n",
        "    # Format the results\n",
        "    formatted_results = []\n",
        "    for (bbox, text, conf) in result:\n",
        "        formatted_results.append({\n",
        "            \"text\": text,\n",
        "            \"bounding_box\": {\n",
        "                \"left\": str(bbox[0][0]),\n",
        "                \"top\": str(bbox[0][1]),\n",
        "                \"right\": str(bbox[2][0]),\n",
        "                \"bottom\": str(bbox[2][1])\n",
        "            },\n",
        "            \"confidence\": conf\n",
        "        })\n",
        "\n",
        "    return formatted_results\n",
        "\n",
        "# Path to the image\n",
        "image_path = '/content/Genova.png'\n",
        "\n",
        "# Perform OCR and get the results\n",
        "ocr_results = extract_text_from_image(image_path)\n",
        "\n",
        "# Create the JSON output\n",
        "output = {\n",
        "    \"extracted_texts\": ocr_results\n",
        "}\n",
        "\n",
        "# Print the JSON output\n",
        "print(json.dumps(output, indent=4))\n",
        "\n",
        "# Optionally save to a file\n",
        "with open('output.json', 'w') as f:\n",
        "    json.dump(output, f, indent=4)"
      ],
      "metadata": {
        "colab": {
          "base_uri": "https://localhost:8080/"
        },
        "id": "DCNniesvyDL0",
        "outputId": "e5f06b45-704a-4adf-def3-8abab8a2766e"
      },
      "execution_count": 3,
      "outputs": [
        {
          "output_type": "stream",
          "name": "stderr",
          "text": [
            "WARNING:easyocr.easyocr:Neither CUDA nor MPS are available - defaulting to CPU. Note: This module is much faster with a GPU.\n"
          ]
        },
        {
          "output_type": "stream",
          "name": "stdout",
          "text": [
            "{\n",
            "    \"extracted_texts\": [\n",
            "        {\n",
            "            \"text\": \"Camaldoli\",\n",
            "            \"bounding_box\": {\n",
            "                \"left\": \"593\",\n",
            "                \"top\": \"157\",\n",
            "                \"right\": \"653\",\n",
            "                \"bottom\": \"173\"\n",
            "            },\n",
            "            \"confidence\": 0.9999339569631562\n",
            "        },\n",
            "        {\n",
            "            \"text\": \"G\\u00eanes\",\n",
            "            \"bounding_box\": {\n",
            "                \"left\": \"284\",\n",
            "                \"top\": \"218\",\n",
            "                \"right\": \"360\",\n",
            "                \"bottom\": \"248\"\n",
            "            },\n",
            "            \"confidence\": 0.9999586830876289\n",
            "        },\n",
            "        {\n",
            "            \"text\": \"Bacino\",\n",
            "            \"bounding_box\": {\n",
            "                \"left\": \"234\",\n",
            "                \"top\": \"320\",\n",
            "                \"right\": \"269\",\n",
            "                \"bottom\": \"334\"\n",
            "            },\n",
            "            \"confidence\": 0.9309524431717044\n",
            "        },\n",
            "        {\n",
            "            \"text\": \"Pag\",\n",
            "            \"bounding_box\": {\n",
            "                \"left\": \"240\",\n",
            "                \"top\": \"334\",\n",
            "                \"right\": \"264\",\n",
            "                \"bottom\": \"340\"\n",
            "            },\n",
            "            \"confidence\": 0.024326035268816288\n",
            "        },\n",
            "        {\n",
            "            \"text\": \"Vaccho\",\n",
            "            \"bounding_box\": {\n",
            "                \"left\": \"232\",\n",
            "                \"top\": \"340\",\n",
            "                \"right\": \"271\",\n",
            "                \"bottom\": \"354\"\n",
            "            },\n",
            "            \"confidence\": 0.6791110816733132\n",
            "        }\n",
            "    ]\n",
            "}\n"
          ]
        }
      ]
    },
    {
      "cell_type": "code",
      "source": [],
      "metadata": {
        "id": "JgYSbeoMyFA0"
      },
      "execution_count": null,
      "outputs": []
    },
    {
      "cell_type": "code",
      "source": [
        "import pandas as pd\n",
        "import numpy as np\n",
        "\n",
        "from glob import glob\n",
        "from tqdm.notebook import tqdm\n",
        "from IPython.display import display_html\n",
        "from PIL import Image as PILImage\n",
        "from openpyxl import load_workbook\n",
        "from io import BytesIO\n",
        "import cv2\n",
        "import matplotlib.pyplot as plt\n",
        "from PIL import Image\n"
      ],
      "metadata": {
        "id": "Gzx28YnYyIlZ"
      },
      "execution_count": null,
      "outputs": []
    },
    {
      "cell_type": "code",
      "source": [
        "image_path = '/content/Genova.png'"
      ],
      "metadata": {
        "id": "7Fkq7k44yIjT"
      },
      "execution_count": null,
      "outputs": []
    },
    {
      "cell_type": "code",
      "source": [
        "import keras_ocr\n",
        "\n",
        "pipeline = keras_ocr.pipeline.Pipeline()"
      ],
      "metadata": {
        "id": "5V7HPMqDyIhF"
      },
      "execution_count": null,
      "outputs": []
    },
    {
      "cell_type": "code",
      "source": [
        "results = pipeline.recognize([image_path])"
      ],
      "metadata": {
        "id": "WqIeX8r2yIfA"
      },
      "execution_count": null,
      "outputs": []
    },
    {
      "cell_type": "code",
      "source": [
        "pd.DataFrame(results[0], columns=['text', 'bbox'])"
      ],
      "metadata": {
        "id": "AFtUreYAyIci"
      },
      "execution_count": null,
      "outputs": []
    },
    {
      "cell_type": "code",
      "source": [
        "fig, ax = plt.subplots(figsize=(10, 10))\n",
        "keras_ocr.tools.drawAnnotations(plt.imread(image_path), results[0], ax=ax)\n",
        "ax.set_title('Keras OCR Result Example')\n",
        "plt.show()"
      ],
      "metadata": {
        "id": "LK4whiMtyIaW"
      },
      "execution_count": null,
      "outputs": []
    },
    {
      "cell_type": "markdown",
      "source": [
        "##titre\n"
      ],
      "metadata": {
        "id": "oC0PHJCQyu7V"
      }
    },
    {
      "cell_type": "code",
      "source": [
        "from img2table.document import Image\n",
        "\n",
        "img_path = \"t.png\"\n",
        "\n",
        "# Definition of image from path\n",
        "img_from_path = Image(src=img_path)\n",
        "\n",
        "# Definition of image from bytes\n",
        "with open(img_path, 'rb') as f:\n",
        "    img_bytes = f.read()\n",
        "img_from_bytes = Image(src=img_bytes)\n",
        "\n",
        "# Definition of image from file-like object\n",
        "img_from_file_like = Image(src=BytesIO(img_bytes))"
      ],
      "metadata": {
        "id": "j6RT9LscyH7V"
      },
      "execution_count": null,
      "outputs": []
    },
    {
      "cell_type": "code",
      "source": [
        "# EasyOCR\n",
        "from img2table.ocr import EasyOCR\n",
        "\n",
        "easyocr = EasyOCR(lang=[\"en\"], kw={\"gpu\": False})"
      ],
      "metadata": {
        "id": "gqPX3zC5zJRj"
      },
      "execution_count": null,
      "outputs": []
    },
    {
      "cell_type": "code",
      "source": [
        "img = Image(src=\"t.png\")\n",
        "\n",
        "# Extract tables\n",
        "extracted_tables = img.extract_tables()"
      ],
      "metadata": {
        "id": "e0Z3AHXizXgf"
      },
      "execution_count": null,
      "outputs": []
    },
    {
      "cell_type": "code",
      "source": [
        "# Display extracted tables\n",
        "table_img = cv2.imread(\"t.png\")\n",
        "\n",
        "for table in extracted_tables:\n",
        "    for row in table.content.values():\n",
        "        for cell in row:\n",
        "            cv2.rectangle(table_img, (cell.bbox.x1, cell.bbox.y1), (cell.bbox.x2, cell.bbox.y2), (255, 0, 0), 2)\n",
        "\n",
        "PILImage.fromarray(table_img)"
      ],
      "metadata": {
        "id": "WNuYmQkmza_K"
      },
      "execution_count": null,
      "outputs": []
    },
    {
      "cell_type": "code",
      "source": [
        "# Export to file\n",
        "img.to_xlsx('tables.xlsx',\n",
        "            ocr=easyocr,\n",
        "            implicit_rows=False,\n",
        "            borderless_tables=False,\n",
        "            min_confidence=50)\n"
      ],
      "metadata": {
        "id": "1co90I1dziqR"
      },
      "execution_count": null,
      "outputs": []
    }
  ]
}